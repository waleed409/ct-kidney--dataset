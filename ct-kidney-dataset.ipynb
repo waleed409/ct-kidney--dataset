{
 "cells": [
  {
   "cell_type": "code",
   "execution_count": 1,
   "id": "e4533640",
   "metadata": {
    "execution": {
     "iopub.execute_input": "2024-07-18T11:35:50.397403Z",
     "iopub.status.busy": "2024-07-18T11:35:50.396930Z",
     "iopub.status.idle": "2024-07-18T11:36:03.523204Z",
     "shell.execute_reply": "2024-07-18T11:36:03.521739Z"
    },
    "papermill": {
     "duration": 13.138203,
     "end_time": "2024-07-18T11:36:03.526099",
     "exception": false,
     "start_time": "2024-07-18T11:35:50.387896",
     "status": "completed"
    },
    "tags": []
   },
   "outputs": [
    {
     "name": "stdout",
     "output_type": "stream",
     "text": [
      "Collecting split_folders\r\n",
      "  Downloading split_folders-0.5.1-py3-none-any.whl (8.4 kB)\r\n",
      "Installing collected packages: split_folders\r\n",
      "Successfully installed split_folders-0.5.1\r\n",
      "\u001b[33mWARNING: Running pip as the 'root' user can result in broken permissions and conflicting behaviour with the system package manager. It is recommended to use a virtual environment instead: https://pip.pypa.io/warnings/venv\u001b[0m\u001b[33m\r\n",
      "\u001b[0mNote: you may need to restart the kernel to use updated packages.\n"
     ]
    }
   ],
   "source": [
    "pip install split_folders"
   ]
  },
  {
   "cell_type": "code",
   "execution_count": 2,
   "id": "f57ff485",
   "metadata": {
    "execution": {
     "iopub.execute_input": "2024-07-18T11:36:03.542007Z",
     "iopub.status.busy": "2024-07-18T11:36:03.541360Z",
     "iopub.status.idle": "2024-07-18T11:38:19.132304Z",
     "shell.execute_reply": "2024-07-18T11:38:19.130928Z"
    },
    "papermill": {
     "duration": 135.602394,
     "end_time": "2024-07-18T11:38:19.135179",
     "exception": false,
     "start_time": "2024-07-18T11:36:03.532785",
     "status": "completed"
    },
    "tags": []
   },
   "outputs": [
    {
     "name": "stderr",
     "output_type": "stream",
     "text": [
      "Copying files: 12446 files [02:15, 91.82 files/s] \n"
     ]
    }
   ],
   "source": [
    "import splitfolders\n",
    "splitfolders.ratio(\"../input/ct-kidney-dataset-normal-cyst-tumor-and-stone/CT-KIDNEY-DATASET-Normal-Cyst-Tumor-Stone/CT-KIDNEY-DATASET-Normal-Cyst-Tumor-Stone\", output=\"dataset\", seed=1337, ratio=(.8, .1, .1), group_prefix=None)"
   ]
  },
  {
   "cell_type": "code",
   "execution_count": 3,
   "id": "64c8214b",
   "metadata": {
    "execution": {
     "iopub.execute_input": "2024-07-18T11:38:19.269048Z",
     "iopub.status.busy": "2024-07-18T11:38:19.268053Z",
     "iopub.status.idle": "2024-07-18T11:38:31.061063Z",
     "shell.execute_reply": "2024-07-18T11:38:31.059496Z"
    },
    "papermill": {
     "duration": 11.862772,
     "end_time": "2024-07-18T11:38:31.064283",
     "exception": false,
     "start_time": "2024-07-18T11:38:19.201511",
     "status": "completed"
    },
    "tags": []
   },
   "outputs": [
    {
     "name": "stdout",
     "output_type": "stream",
     "text": [
      "\u001b[33mWARNING: Running pip as the 'root' user can result in broken permissions and conflicting behaviour with the system package manager. It is recommended to use a virtual environment instead: https://pip.pypa.io/warnings/venv\u001b[0m\u001b[33m\r\n",
      "\u001b[0m"
     ]
    }
   ],
   "source": [
    "# Let's pip install effcientnet libarary\n",
    "!pip install -q efficientnet"
   ]
  },
  {
   "cell_type": "code",
   "execution_count": 4,
   "id": "89c0d903",
   "metadata": {
    "execution": {
     "iopub.execute_input": "2024-07-18T11:38:31.199863Z",
     "iopub.status.busy": "2024-07-18T11:38:31.199357Z",
     "iopub.status.idle": "2024-07-18T11:38:41.878138Z",
     "shell.execute_reply": "2024-07-18T11:38:41.876861Z"
    },
    "papermill": {
     "duration": 10.750504,
     "end_time": "2024-07-18T11:38:41.881297",
     "exception": false,
     "start_time": "2024-07-18T11:38:31.130793",
     "status": "completed"
    },
    "tags": []
   },
   "outputs": [
    {
     "data": {
      "text/html": [
       "        <script type=\"text/javascript\">\n",
       "        window.PlotlyConfig = {MathJaxConfig: 'local'};\n",
       "        if (window.MathJax && window.MathJax.Hub && window.MathJax.Hub.Config) {window.MathJax.Hub.Config({SVG: {font: \"STIX-Web\"}});}\n",
       "        if (typeof require !== 'undefined') {\n",
       "        require.undef(\"plotly\");\n",
       "        requirejs.config({\n",
       "            paths: {\n",
       "                'plotly': ['https://cdn.plot.ly/plotly-2.12.1.min']\n",
       "            }\n",
       "        });\n",
       "        require(['plotly'], function(Plotly) {\n",
       "            window._Plotly = Plotly;\n",
       "        });\n",
       "        }\n",
       "        </script>\n",
       "        "
      ]
     },
     "metadata": {},
     "output_type": "display_data"
    }
   ],
   "source": [
    "import numpy as np\n",
    "import pandas as pd\n",
    "from sklearn.utils.multiclass import unique_labels\n",
    "import os\n",
    "import matplotlib.pyplot as plt\n",
    "import matplotlib.image as mpimg\n",
    "import seaborn as sns\n",
    "import itertools\n",
    "from sklearn.model_selection import train_test_split\n",
    "from sklearn.metrics import confusion_matrix\n",
    "from keras import Sequential\n",
    "from keras.applications.vgg16 import VGG16 #For Transfer Learning\n",
    "from keras.preprocessing.image import ImageDataGenerator\n",
    "from tensorflow.keras.optimizers import SGD,Adam\n",
    "from keras.callbacks import ReduceLROnPlateau\n",
    "from keras.layers import Flatten,Dense,BatchNormalization,Activation,Dropout\n",
    "from tensorflow.keras.utils import to_categorical\n",
    "# Import all the libraries \n",
    "import os\n",
    "import shutil\n",
    "from PIL import Image, ImageOps  \n",
    "import matplotlib.pyplot as plt\n",
    "%matplotlib inline\n",
    "import seaborn as sns\n",
    "sns.set_style('white')\n",
    "import plotly.graph_objects as go\n",
    "import plotly.express as px\n",
    "import datetime\n",
    "from plotly.offline import init_notebook_mode, iplot\n",
    "import plotly.io as pio\n",
    "pio.templates.default = 'plotly_white'\n",
    "from plotly.subplots import make_subplots\n",
    "init_notebook_mode(connected=True)\n",
    "from tensorflow.keras.models import Sequential\n",
    "from tensorflow.keras.layers import Dense, Activation, Dropout, Concatenate, Flatten, MaxPooling2D, Conv2D\n",
    "from  tensorflow.keras.preprocessing.image import ImageDataGenerator\n",
    "import tensorflow_addons as tfa\n",
    "from tensorflow.keras.optimizers import Adam\n",
    "from tensorflow.keras.losses import binary_crossentropy\n",
    "from tensorflow.keras.callbacks import EarlyStopping\n",
    "from tensorflow.keras import metrics\n",
    "import efficientnet.tfkeras as efn\n",
    "from tqdm import tqdm_notebook"
   ]
  },
  {
   "cell_type": "code",
   "execution_count": 5,
   "id": "f75d381d",
   "metadata": {
    "execution": {
     "iopub.execute_input": "2024-07-18T11:38:42.015534Z",
     "iopub.status.busy": "2024-07-18T11:38:42.015101Z",
     "iopub.status.idle": "2024-07-18T11:38:42.764681Z",
     "shell.execute_reply": "2024-07-18T11:38:42.763120Z"
    },
    "papermill": {
     "duration": 0.819411,
     "end_time": "2024-07-18T11:38:42.767599",
     "exception": false,
     "start_time": "2024-07-18T11:38:41.948188",
     "status": "completed"
    },
    "tags": []
   },
   "outputs": [
    {
     "name": "stdout",
     "output_type": "stream",
     "text": [
      "test batch size:  32   test steps:  1\n",
      "Found 9955 images belonging to 4 classes.\n",
      "Found 1249 images belonging to 4 classes.\n",
      "Found 1242 images belonging to 4 classes.\n"
     ]
    }
   ],
   "source": [
    "channels=3\n",
    "batch_size=25\n",
    "test_batch_size=32 \n",
    "test_steps=1\n",
    "train_path = './dataset/train'\n",
    "test_path = './dataset/test'\n",
    "val_path = './dataset/val'\n",
    "print ( 'test batch size: ' ,test_batch_size, '  test steps: ', test_steps)\n",
    "def scalar(img):    \n",
    "    return img  # EfficientNet expects pixelsin range 0 to 255 so no scaling is required\n",
    "trgen=ImageDataGenerator(preprocessing_function=scalar, horizontal_flip=True)\n",
    "tvgen=ImageDataGenerator(preprocessing_function=scalar)\n",
    "\n",
    "\n",
    "\n",
    "train_generator=trgen.flow_from_directory( directory=train_path , target_size=(224,224), class_mode='categorical',\n",
    "                                    color_mode='rgb', shuffle=True, batch_size=batch_size)\n",
    "test_generator=tvgen.flow_from_directory( directory=test_path, target_size=(224,224), class_mode='categorical',\n",
    "                                    color_mode='rgb', shuffle=False, batch_size=test_batch_size)\n",
    "\n",
    "valid_generator=tvgen.flow_from_directory( directory=val_path, target_size=(224,224), class_mode='categorical',\n",
    "                                    color_mode='rgb', shuffle=True, batch_size=batch_size)\n",
    "classes=list(train_generator.class_indices.keys())\n",
    "class_count=len(classes)\n",
    "train_steps=int(np.ceil(len(train_generator.labels)/batch_size))"
   ]
  },
  {
   "cell_type": "code",
   "execution_count": 6,
   "id": "3066bb5d",
   "metadata": {
    "execution": {
     "iopub.execute_input": "2024-07-18T11:38:42.899500Z",
     "iopub.status.busy": "2024-07-18T11:38:42.899057Z",
     "iopub.status.idle": "2024-07-18T11:38:51.616279Z",
     "shell.execute_reply": "2024-07-18T11:38:51.615039Z"
    },
    "papermill": {
     "duration": 8.786189,
     "end_time": "2024-07-18T11:38:51.619075",
     "exception": false,
     "start_time": "2024-07-18T11:38:42.832886",
     "status": "completed"
    },
    "tags": []
   },
   "outputs": [
    {
     "name": "stdout",
     "output_type": "stream",
     "text": [
      "Downloading data from https://github.com/Callidior/keras-applications/releases/download/efficientnet/efficientnet-b7_weights_tf_dim_ordering_tf_kernels_autoaugment_notop.h5\n",
      "258441216/258434480 [==============================] - 1s 0us/step\n",
      "258449408/258434480 [==============================] - 1s 0us/step\n"
     ]
    }
   ],
   "source": [
    "#Creating an EffNet model\n",
    "model_B7 = efn.EfficientNetB7(weights='imagenet', input_shape=(224,224,3), include_top=False)"
   ]
  },
  {
   "cell_type": "code",
   "execution_count": 7,
   "id": "94b6008f",
   "metadata": {
    "execution": {
     "iopub.execute_input": "2024-07-18T11:38:51.755758Z",
     "iopub.status.busy": "2024-07-18T11:38:51.754537Z",
     "iopub.status.idle": "2024-07-18T11:38:55.434106Z",
     "shell.execute_reply": "2024-07-18T11:38:55.432883Z"
    },
    "papermill": {
     "duration": 3.750578,
     "end_time": "2024-07-18T11:38:55.437033",
     "exception": false,
     "start_time": "2024-07-18T11:38:51.686455",
     "status": "completed"
    },
    "tags": []
   },
   "outputs": [],
   "source": [
    "pretrained_model = model_B7\n",
    "pretrained_model.trainable=True\n",
    "set_trainable=False\n",
    "\n",
    "for layer in pretrained_model.layers:\n",
    "    if layer.name == 'block7c_project_conv':\n",
    "        set_trainable=True\n",
    "    if set_trainable:\n",
    "        layer.trainable=True\n",
    "    else:\n",
    "        layer.trainable=False\n",
    "\n",
    "\n",
    "model=Sequential()\n",
    "model.add(pretrained_model)\n",
    "model.add(Flatten())\n",
    "model.add(Dense(1024,activation=('relu'),input_dim=512))\n",
    "model.add(Dense(512,activation=('relu'))) \n",
    "model.add(Dense(256,activation=('relu'))) \n",
    "model.add(Dropout(.3))\n",
    "model.add(Dense(128,activation=('relu')))\n",
    "#model.add(Dropout(.2))\n",
    "model.add(Dense(4,activation=('softmax')))"
   ]
  },
  {
   "cell_type": "code",
   "execution_count": 8,
   "id": "7c1ace3e",
   "metadata": {
    "execution": {
     "iopub.execute_input": "2024-07-18T11:38:55.579841Z",
     "iopub.status.busy": "2024-07-18T11:38:55.578976Z",
     "iopub.status.idle": "2024-07-18T11:38:55.624922Z",
     "shell.execute_reply": "2024-07-18T11:38:55.623702Z"
    },
    "papermill": {
     "duration": 0.122343,
     "end_time": "2024-07-18T11:38:55.627697",
     "exception": false,
     "start_time": "2024-07-18T11:38:55.505354",
     "status": "completed"
    },
    "tags": []
   },
   "outputs": [
    {
     "name": "stdout",
     "output_type": "stream",
     "text": [
      "Model: \"sequential\"\n",
      "_________________________________________________________________\n",
      "Layer (type)                 Output Shape              Param #   \n",
      "=================================================================\n",
      "efficientnet-b7 (Functional) (None, 7, 7, 2560)        64097680  \n",
      "_________________________________________________________________\n",
      "flatten (Flatten)            (None, 125440)            0         \n",
      "_________________________________________________________________\n",
      "dense (Dense)                (None, 1024)              128451584 \n",
      "_________________________________________________________________\n",
      "dense_1 (Dense)              (None, 512)               524800    \n",
      "_________________________________________________________________\n",
      "dense_2 (Dense)              (None, 256)               131328    \n",
      "_________________________________________________________________\n",
      "dropout (Dropout)            (None, 256)               0         \n",
      "_________________________________________________________________\n",
      "dense_3 (Dense)              (None, 128)               32896     \n",
      "_________________________________________________________________\n",
      "dense_4 (Dense)              (None, 4)                 516       \n",
      "=================================================================\n",
      "Total params: 193,238,804\n",
      "Trainable params: 139,442,724\n",
      "Non-trainable params: 53,796,080\n",
      "_________________________________________________________________\n"
     ]
    }
   ],
   "source": [
    "model.summary()"
   ]
  },
  {
   "cell_type": "code",
   "execution_count": 9,
   "id": "0582843c",
   "metadata": {
    "execution": {
     "iopub.execute_input": "2024-07-18T11:38:55.764443Z",
     "iopub.status.busy": "2024-07-18T11:38:55.764023Z",
     "iopub.status.idle": "2024-07-18T11:38:55.792133Z",
     "shell.execute_reply": "2024-07-18T11:38:55.790877Z"
    },
    "papermill": {
     "duration": 0.100102,
     "end_time": "2024-07-18T11:38:55.795241",
     "exception": false,
     "start_time": "2024-07-18T11:38:55.695139",
     "status": "completed"
    },
    "tags": []
   },
   "outputs": [],
   "source": [
    "batch_size= 1218\n",
    "epochs=15\n",
    "learn_rate=.001\n",
    "sgd=SGD(learning_rate=learn_rate,momentum=.9,nesterov=False)\n",
    "adam=Adam(learning_rate=learn_rate, beta_1=0.9, beta_2=0.999, epsilon=None, decay=0.0, amsgrad=False)\n",
    "model.compile(optimizer=sgd,loss='categorical_crossentropy',metrics=['accuracy'])"
   ]
  },
  {
   "cell_type": "code",
   "execution_count": 10,
   "id": "0369f436",
   "metadata": {
    "execution": {
     "iopub.execute_input": "2024-07-18T11:38:55.931260Z",
     "iopub.status.busy": "2024-07-18T11:38:55.930770Z",
     "iopub.status.idle": "2024-07-18T14:33:59.484355Z",
     "shell.execute_reply": "2024-07-18T14:33:59.482889Z"
    },
    "papermill": {
     "duration": 10503.812736,
     "end_time": "2024-07-18T14:33:59.674936",
     "exception": false,
     "start_time": "2024-07-18T11:38:55.862200",
     "status": "completed"
    },
    "tags": []
   },
   "outputs": [
    {
     "name": "stdout",
     "output_type": "stream",
     "text": [
      "Epoch 1/5\n",
      "399/399 [==============================] - 2113s 5s/step - loss: 1.3795 - accuracy: 0.3746 - val_loss: 1.2890 - val_accuracy: 0.4082\n",
      "Epoch 2/5\n",
      "399/399 [==============================] - 2081s 5s/step - loss: 1.3124 - accuracy: 0.3944 - val_loss: 1.3051 - val_accuracy: 0.2979\n",
      "Epoch 3/5\n",
      "399/399 [==============================] - 2106s 5s/step - loss: 1.2997 - accuracy: 0.3955 - val_loss: 1.2928 - val_accuracy: 0.4082\n",
      "Epoch 4/5\n",
      "399/399 [==============================] - 2081s 5s/step - loss: 1.2897 - accuracy: 0.4038 - val_loss: 1.3042 - val_accuracy: 0.2979\n",
      "Epoch 5/5\n",
      "399/399 [==============================] - 2082s 5s/step - loss: 1.2906 - accuracy: 0.4049 - val_loss: 1.2844 - val_accuracy: 0.4082\n"
     ]
    }
   ],
   "source": [
    "history = model.fit(train_generator,epochs = 5\n",
    "          , validation_data = valid_generator, verbose = 1)"
   ]
  },
  {
   "cell_type": "code",
   "execution_count": 11,
   "id": "20784a97",
   "metadata": {
    "execution": {
     "iopub.execute_input": "2024-07-18T14:34:00.061560Z",
     "iopub.status.busy": "2024-07-18T14:34:00.061108Z",
     "iopub.status.idle": "2024-07-18T14:34:00.085329Z",
     "shell.execute_reply": "2024-07-18T14:34:00.084066Z"
    },
    "papermill": {
     "duration": 0.222137,
     "end_time": "2024-07-18T14:34:00.088001",
     "exception": false,
     "start_time": "2024-07-18T14:33:59.865864",
     "status": "completed"
    },
    "tags": []
   },
   "outputs": [],
   "source": [
    "def print_info( test_gen, preds, print_code, save_dir, subject ):\n",
    "    class_dict=test_gen.class_indices\n",
    "    labels= test_gen.labels\n",
    "    file_names= test_gen.filenames \n",
    "    error_list=[]\n",
    "    true_class=[]\n",
    "    pred_class=[]\n",
    "    prob_list=[]\n",
    "    new_dict={}\n",
    "    error_indices=[]\n",
    "    y_pred=[]\n",
    "    for key,value in class_dict.items():\n",
    "        new_dict[value]=key             # dictionary {integer of class number: string of class name}\n",
    "    # store new_dict as a text fine in the save_dir\n",
    "    classes=list(new_dict.values())     # list of string of class names     \n",
    "    errors=0      \n",
    "    for i, p in enumerate(preds):\n",
    "        pred_index=np.argmax(p)         \n",
    "        true_index=labels[i]  # labels are integer values\n",
    "        if pred_index != true_index: # a misclassification has occurred\n",
    "            error_list.append(file_names[i])\n",
    "            true_class.append(new_dict[true_index])\n",
    "            pred_class.append(new_dict[pred_index])\n",
    "            prob_list.append(p[pred_index])\n",
    "            error_indices.append(true_index)            \n",
    "            errors=errors + 1\n",
    "        y_pred.append(pred_index)    \n",
    "    if print_code !=0:\n",
    "        if errors>0:\n",
    "            if print_code>errors:\n",
    "                r=errors\n",
    "            else:\n",
    "                r=print_code           \n",
    "            msg='{0:^28s}{1:^28s}{2:^28s}{3:^16s}'.format('Filename', 'Predicted Class' , 'True Class', 'Probability')\n",
    "            print_in_color(msg, (0,255,0),(55,65,80))\n",
    "            for i in range(r):                \n",
    "                split1=os.path.split(error_list[i])                \n",
    "                split2=os.path.split(split1[0])                \n",
    "                fname=split2[1] + '/' + split1[1]\n",
    "                msg='{0:^28s}{1:^28s}{2:^28s}{3:4s}{4:^6.4f}'.format(fname, pred_class[i],true_class[i], ' ', prob_list[i])\n",
    "                print_in_color(msg, (255,255,255), (55,65,60))\n",
    "                #print(error_list[i]  , pred_class[i], true_class[i], prob_list[i])               \n",
    "        else:\n",
    "            msg='With accuracy of 100 % there are no errors to print'\n",
    "            print_in_color(msg, (0,255,0),(55,65,80))\n",
    "    if errors>0:\n",
    "        plot_bar=[]\n",
    "        plot_class=[]\n",
    "        for  key, value in new_dict.items():        \n",
    "            count=error_indices.count(key) \n",
    "            if count!=0:\n",
    "                plot_bar.append(count) # list containg how many times a class c had an error\n",
    "                plot_class.append(value)   # stores the class \n",
    "        fig=plt.figure()\n",
    "        fig.set_figheight(len(plot_class)/3)\n",
    "        fig.set_figwidth(10)\n",
    "        plt.style.use('fivethirtyeight')\n",
    "        for i in range(0, len(plot_class)):\n",
    "            c=plot_class[i]\n",
    "            x=plot_bar[i]\n",
    "            plt.barh(c, x, )\n",
    "            plt.title( ' Errors by Class on Test Set')\n",
    "    y_true= np.array(labels)        \n",
    "    y_pred=np.array(y_pred)\n",
    "    if len(classes)<= 40:\n",
    "        # create a confusion matrix \n",
    "        cm = confusion_matrix(y_true, y_pred )        \n",
    "        length=len(classes)\n",
    "        if length<8:\n",
    "            fig_width=8\n",
    "            fig_height=8\n",
    "        else:\n",
    "            fig_width= int(length * .5)\n",
    "            fig_height= int(length * .5)\n",
    "        plt.figure(figsize=(fig_width, fig_height))\n",
    "        sns.heatmap(cm, annot=True, vmin=0, fmt='g', cmap='Blues', cbar=False)       \n",
    "        plt.xticks(np.arange(length)+.5, classes, rotation= 90)\n",
    "        plt.yticks(np.arange(length)+.5, classes, rotation=0)\n",
    "        plt.xlabel(\"Predicted\")\n",
    "        plt.ylabel(\"Actual\")\n",
    "        plt.title(\"Confusion Matrix\")\n",
    "        plt.show()\n",
    "    clr = classification_report(y_true, y_pred, target_names=classes)\n",
    "    print(\"Classification Report:\\n----------------------\\n\", clr)"
   ]
  },
  {
   "cell_type": "code",
   "execution_count": 12,
   "id": "8a8d9444",
   "metadata": {
    "execution": {
     "iopub.execute_input": "2024-07-18T14:34:00.484762Z",
     "iopub.status.busy": "2024-07-18T14:34:00.484346Z",
     "iopub.status.idle": "2024-07-18T14:34:00.492174Z",
     "shell.execute_reply": "2024-07-18T14:34:00.490958Z"
    },
    "papermill": {
     "duration": 0.21229,
     "end_time": "2024-07-18T14:34:00.494645",
     "exception": false,
     "start_time": "2024-07-18T14:34:00.282355",
     "status": "completed"
    },
    "tags": []
   },
   "outputs": [],
   "source": [
    "def print_in_color(txt_msg,fore_tupple,back_tupple,):\n",
    "    #prints the text_msg in the foreground color specified by fore_tupple with the background specified by back_tupple \n",
    "    #text_msg is the text, fore_tupple is foregroud color tupple (r,g,b), back_tupple is background tupple (r,g,b)\n",
    "    rf,gf,bf=fore_tupple\n",
    "    rb,gb,bb=back_tupple\n",
    "    msg='{0}' + txt_msg\n",
    "    mat='\\33[38;2;' + str(rf) +';' + str(gf) + ';' + str(bf) + ';48;2;' + str(rb) + ';' +str(gb) + ';' + str(bb) +'m' \n",
    "    print(msg .format(mat), flush=True)\n",
    "    print('\\33[0m', flush=True) # returns default print color to back to black\n",
    "    return"
   ]
  },
  {
   "cell_type": "code",
   "execution_count": 13,
   "id": "594f1e1b",
   "metadata": {
    "execution": {
     "iopub.execute_input": "2024-07-18T14:34:00.960815Z",
     "iopub.status.busy": "2024-07-18T14:34:00.959853Z",
     "iopub.status.idle": "2024-07-18T14:37:17.918567Z",
     "shell.execute_reply": "2024-07-18T14:37:17.917412Z"
    },
    "papermill": {
     "duration": 197.232674,
     "end_time": "2024-07-18T14:37:17.921392",
     "exception": false,
     "start_time": "2024-07-18T14:34:00.688718",
     "status": "completed"
    },
    "tags": []
   },
   "outputs": [
    {
     "name": "stdout",
     "output_type": "stream",
     "text": [
      "\u001b[38;2;0;255;0;48;2;55;65;80m          Filename                Predicted Class                True Class           Probability   \n",
      "\u001b[0m\n",
      "\u001b[38;2;255;255;255;48;2;55;65;60m     Cyst/Cyst- (1).jpg                Normal                       Cyst                0.4114\n",
      "\u001b[0m\n",
      "\u001b[38;2;255;255;255;48;2;55;65;60m   Cyst/Cyst- (1008).jpg               Normal                       Cyst                0.4114\n",
      "\u001b[0m\n",
      "\u001b[38;2;255;255;255;48;2;55;65;60m   Cyst/Cyst- (1044).jpg               Normal                       Cyst                0.4114\n",
      "\u001b[0m\n",
      "\u001b[38;2;255;255;255;48;2;55;65;60m   Cyst/Cyst- (1054).jpg               Normal                       Cyst                0.4114\n",
      "\u001b[0m\n",
      "\u001b[38;2;255;255;255;48;2;55;65;60m   Cyst/Cyst- (1056).jpg               Normal                       Cyst                0.4114\n",
      "\u001b[0m\n",
      "\u001b[38;2;255;255;255;48;2;55;65;60m   Cyst/Cyst- (1061).jpg               Normal                       Cyst                0.4114\n",
      "\u001b[0m\n",
      "\u001b[38;2;255;255;255;48;2;55;65;60m   Cyst/Cyst- (1064).jpg               Normal                       Cyst                0.4114\n",
      "\u001b[0m\n",
      "\u001b[38;2;255;255;255;48;2;55;65;60m   Cyst/Cyst- (1075).jpg               Normal                       Cyst                0.4114\n",
      "\u001b[0m\n",
      "\u001b[38;2;255;255;255;48;2;55;65;60m   Cyst/Cyst- (1089).jpg               Normal                       Cyst                0.4114\n",
      "\u001b[0m\n",
      "\u001b[38;2;255;255;255;48;2;55;65;60m   Cyst/Cyst- (1090).jpg               Normal                       Cyst                0.4114\n",
      "\u001b[0m\n"
     ]
    },
    {
     "data": {
      "image/png": "[encoded data removed]",
      "text/plain": [
       "<Figure size 720x72 with 1 Axes>"
      ]
     },
     "metadata": {},
     "output_type": "display_data"
    },
    {
     "data": {
      "image/png": "[encoded data removed]",
      "text/plain": [
       "<Figure size 576x576 with 1 Axes>"
      ]
     },
     "metadata": {},
     "output_type": "display_data"
    },
    {
     "name": "stdout",
     "output_type": "stream",
     "text": [
      "Classification Report:\n",
      "----------------------\n",
      "               precision    recall  f1-score   support\n",
      "\n",
      "        Cyst       0.00      0.00      0.00       372\n",
      "      Normal       0.41      1.00      0.58       509\n",
      "       Stone       0.00      0.00      0.00       139\n",
      "       Tumor       0.00      0.00      0.00       229\n",
      "\n",
      "    accuracy                           0.41      1249\n",
      "   macro avg       0.10      0.25      0.14      1249\n",
      "weighted avg       0.17      0.41      0.24      1249\n",
      "\n"
     ]
    },
    {
     "name": "stderr",
     "output_type": "stream",
     "text": [
      "/opt/conda/lib/python3.7/site-packages/sklearn/metrics/_classification.py:1318: UndefinedMetricWarning:\n",
      "\n",
      "Precision and F-score are ill-defined and being set to 0.0 in labels with no predicted samples. Use `zero_division` parameter to control this behavior.\n",
      "\n",
      "/opt/conda/lib/python3.7/site-packages/sklearn/metrics/_classification.py:1318: UndefinedMetricWarning:\n",
      "\n",
      "Precision and F-score are ill-defined and being set to 0.0 in labels with no predicted samples. Use `zero_division` parameter to control this behavior.\n",
      "\n",
      "/opt/conda/lib/python3.7/site-packages/sklearn/metrics/_classification.py:1318: UndefinedMetricWarning:\n",
      "\n",
      "Precision and F-score are ill-defined and being set to 0.0 in labels with no predicted samples. Use `zero_division` parameter to control this behavior.\n",
      "\n"
     ]
    }
   ],
   "source": [
    "import seaborn as sns\n",
    "sns.set_style('darkgrid')\n",
    "from PIL import Image\n",
    "from sklearn.metrics import confusion_matrix, classification_report\n",
    "p = model.predict(test_generator)\n",
    "print_info( test_generator, p, 10, r'./', 'kidney' ) "
   ]
  },
  {
   "cell_type": "code",
   "execution_count": 14,
   "id": "fd15709c",
   "metadata": {
    "execution": {
     "iopub.execute_input": "2024-07-18T14:37:18.310923Z",
     "iopub.status.busy": "2024-07-18T14:37:18.310479Z",
     "iopub.status.idle": "2024-07-18T14:40:25.969007Z",
     "shell.execute_reply": "2024-07-18T14:40:25.967665Z"
    },
    "papermill": {
     "duration": 187.856547,
     "end_time": "2024-07-18T14:40:25.971746",
     "exception": false,
     "start_time": "2024-07-18T14:37:18.115199",
     "status": "completed"
    },
    "tags": []
   },
   "outputs": [
    {
     "name": "stdout",
     "output_type": "stream",
     "text": [
      "40/40 [==============================] - 187s 5s/step - loss: 1.2853 - accuracy: 0.4075\n"
     ]
    },
    {
     "data": {
      "text/plain": [
       "[1.2853443622589111, 0.40752601623535156]"
      ]
     },
     "execution_count": 14,
     "metadata": {},
     "output_type": "execute_result"
    }
   ],
   "source": [
    "model.evaluate(test_generator)"
   ]
  },
  {
   "cell_type": "code",
   "execution_count": 15,
   "id": "7b925091",
   "metadata": {
    "execution": {
     "iopub.execute_input": "2024-07-18T14:40:26.366655Z",
     "iopub.status.busy": "2024-07-18T14:40:26.366234Z",
     "iopub.status.idle": "2024-07-18T14:40:29.163497Z",
     "shell.execute_reply": "2024-07-18T14:40:29.162307Z"
    },
    "papermill": {
     "duration": 2.997556,
     "end_time": "2024-07-18T14:40:29.166524",
     "exception": false,
     "start_time": "2024-07-18T14:40:26.168968",
     "status": "completed"
    },
    "tags": []
   },
   "outputs": [
    {
     "name": "stderr",
     "output_type": "stream",
     "text": [
      "/opt/conda/lib/python3.7/site-packages/keras/utils/generic_utils.py:497: CustomMaskWarning:\n",
      "\n",
      "Custom mask layers require a config and must override get_config. When loading, the custom mask layer must be passed to the custom_objects argument.\n",
      "\n"
     ]
    }
   ],
   "source": [
    "model.save(\"EfficientnetB7.h5\")"
   ]
  },
  {
   "cell_type": "code",
   "execution_count": 16,
   "id": "ab5514d6",
   "metadata": {
    "execution": {
     "iopub.execute_input": "2024-07-18T14:40:29.560345Z",
     "iopub.status.busy": "2024-07-18T14:40:29.559924Z",
     "iopub.status.idle": "2024-07-18T14:40:30.276058Z",
     "shell.execute_reply": "2024-07-18T14:40:30.274730Z"
    },
    "papermill": {
     "duration": 0.917601,
     "end_time": "2024-07-18T14:40:30.279191",
     "exception": false,
     "start_time": "2024-07-18T14:40:29.361590",
     "status": "completed"
    },
    "tags": []
   },
   "outputs": [],
   "source": [
    "import shutil \n",
    "shutil.rmtree('./dataset')"
   ]
  },
  {
   "cell_type": "code",
   "execution_count": 17,
   "id": "7bb70084",
   "metadata": {
    "execution": {
     "iopub.execute_input": "2024-07-18T14:40:30.678762Z",
     "iopub.status.busy": "2024-07-18T14:40:30.677935Z",
     "iopub.status.idle": "2024-07-18T14:40:30.686475Z",
     "shell.execute_reply": "2024-07-18T14:40:30.685170Z"
    },
    "papermill": {
     "duration": 0.213196,
     "end_time": "2024-07-18T14:40:30.689239",
     "exception": false,
     "start_time": "2024-07-18T14:40:30.476043",
     "status": "completed"
    },
    "tags": []
   },
   "outputs": [
    {
     "data": {
      "text/plain": [
       "5"
      ]
     },
     "execution_count": 17,
     "metadata": {},
     "output_type": "execute_result"
    }
   ],
   "source": [
    "history.params\n",
    "history.history.keys()\n",
    "type(history.history['loss'])\n",
    "len(history.history['loss'])"
   ]
  },
  {
   "cell_type": "code",
   "execution_count": 18,
   "id": "b80ca156",
   "metadata": {
    "execution": {
     "iopub.execute_input": "2024-07-18T14:40:31.164195Z",
     "iopub.status.busy": "2024-07-18T14:40:31.162425Z",
     "iopub.status.idle": "2024-07-18T14:40:31.169162Z",
     "shell.execute_reply": "2024-07-18T14:40:31.167875Z"
    },
    "papermill": {
     "duration": 0.209973,
     "end_time": "2024-07-18T14:40:31.171874",
     "exception": false,
     "start_time": "2024-07-18T14:40:30.961901",
     "status": "completed"
    },
    "tags": []
   },
   "outputs": [],
   "source": [
    "acc = history.history['accuracy']\n",
    "val_acc = history.history['val_accuracy']"
   ]
  },
  {
   "cell_type": "code",
   "execution_count": 19,
   "id": "a025f1b9",
   "metadata": {
    "execution": {
     "iopub.execute_input": "2024-07-18T14:40:31.569235Z",
     "iopub.status.busy": "2024-07-18T14:40:31.568798Z",
     "iopub.status.idle": "2024-07-18T14:40:31.573965Z",
     "shell.execute_reply": "2024-07-18T14:40:31.572902Z"
    },
    "papermill": {
     "duration": 0.208123,
     "end_time": "2024-07-18T14:40:31.576274",
     "exception": false,
     "start_time": "2024-07-18T14:40:31.368151",
     "status": "completed"
    },
    "tags": []
   },
   "outputs": [],
   "source": [
    "loss = history.history['loss']\n",
    "val_loss = history.history['val_loss']"
   ]
  },
  {
   "cell_type": "code",
   "execution_count": 20,
   "id": "8b77e95a",
   "metadata": {
    "execution": {
     "iopub.execute_input": "2024-07-18T14:40:31.972849Z",
     "iopub.status.busy": "2024-07-18T14:40:31.972391Z",
     "iopub.status.idle": "2024-07-18T14:40:32.182233Z",
     "shell.execute_reply": "2024-07-18T14:40:32.180954Z"
    },
    "papermill": {
     "duration": 0.413629,
     "end_time": "2024-07-18T14:40:32.184731",
     "exception": false,
     "start_time": "2024-07-18T14:40:31.771102",
     "status": "completed"
    },
    "tags": []
   },
   "outputs": [
    {
     "data": {
      "text/plain": [
       "Text(0.5, 1.0, 'Training and Validation Accuracy')"
      ]
     },
     "execution_count": 20,
     "metadata": {},
     "output_type": "execute_result"
    },
    {
     "data": {
      "image/png": "[encoded data removed]",
      "text/plain": [
       "<Figure size 576x576 with 1 Axes>"
      ]
     },
     "metadata": {},
     "output_type": "display_data"
    }
   ],
   "source": [
    "plt.figure(figsize=(8, 8))\n",
    "plt.subplot(1, 2, 1)\n",
    "plt.plot(range(5), acc, label='Training Accuracy')\n",
    "plt.plot(range(5), val_acc, label='Validation Accuracy')\n",
    "plt.legend(loc='lower right')\n",
    "plt.title('Training and Validation Accuracy')"
   ]
  },
  {
   "cell_type": "code",
   "execution_count": 21,
   "id": "81426657",
   "metadata": {
    "execution": {
     "iopub.execute_input": "2024-07-18T14:40:32.585637Z",
     "iopub.status.busy": "2024-07-18T14:40:32.584587Z",
     "iopub.status.idle": "2024-07-18T14:40:32.765390Z",
     "shell.execute_reply": "2024-07-18T14:40:32.763751Z"
    },
    "papermill": {
     "duration": 0.386932,
     "end_time": "2024-07-18T14:40:32.768035",
     "exception": false,
     "start_time": "2024-07-18T14:40:32.381103",
     "status": "completed"
    },
    "tags": []
   },
   "outputs": [
    {
     "data": {
      "image/png": "[encoded data removed]",
      "text/plain": [
       "<Figure size 432x288 with 1 Axes>"
      ]
     },
     "metadata": {},
     "output_type": "display_data"
    }
   ],
   "source": [
    "plt.subplot(1, 2, 2)\n",
    "plt.plot(range(5), loss, label='Training Loss')\n",
    "plt.plot(range(5), val_loss, label='Validation Loss')\n",
    "plt.legend(loc='upper right')\n",
    "plt.title('Training and Validation Loss')\n",
    "plt.show()"
   ]
  },
  {
   "cell_type": "code",
   "execution_count": null,
   "id": "0b6d61b5",
   "metadata": {
    "papermill": {
     "duration": 0.197396,
     "end_time": "2024-07-18T14:40:33.168809",
     "exception": false,
     "start_time": "2024-07-18T14:40:32.971413",
     "status": "completed"
    },
    "tags": []
   },
   "outputs": [],
   "source": []
  },
  {
   "cell_type": "code",
   "execution_count": null,
   "id": "fb55c85c",
   "metadata": {
    "papermill": {
     "duration": 0.200563,
     "end_time": "2024-07-18T14:40:33.565770",
     "exception": false,
     "start_time": "2024-07-18T14:40:33.365207",
     "status": "completed"
    },
    "tags": []
   },
   "outputs": [],
   "source": []
  }
 ],
 "metadata": {
  "kaggle": {
   "accelerator": "none",
   "dataSources": [
    {
     "datasetId": 1686903,
     "sourceId": 2764486,
     "sourceType": "datasetVersion"
    }
   ],
   "dockerImageVersionId": 30213,
   "isGpuEnabled": false,
   "isInternetEnabled": true,
   "language": "python",
   "sourceType": "notebook"
  },
  "kernelspec": {
   "display_name": "Python 3",
   "language": "python",
   "name": "python3"
  },
  "language_info": {
   "codemirror_mode": {
    "name": "ipython",
    "version": 3
   },
   "file_extension": ".py",
   "mimetype": "text/x-python",
   "name": "python",
   "nbconvert_exporter": "python",
   "pygments_lexer": "ipython3",
   "version": "3.7.12"
  },
  "papermill": {
   "default_parameters": {},
   "duration": 11097.287817,
   "end_time": "2024-07-18T14:40:37.484509",
   "environment_variables": {},
   "exception": null,
   "input_path": "__notebook__.ipynb",
   "output_path": "__notebook__.ipynb",
   "parameters": {},
   "start_time": "2024-07-18T11:35:40.196692",
   "version": "2.3.4"
  }
 },
 "nbformat": 4,
 "nbformat_minor": 5
}
